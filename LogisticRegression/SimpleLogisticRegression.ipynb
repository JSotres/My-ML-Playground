{
 "cells": [
  {
   "cell_type": "markdown",
   "metadata": {},
   "source": [
    "This is a notebook to play around with the logistic regression class that I implemented and that can be found in this same folder"
   ]
  },
  {
   "cell_type": "markdown",
   "metadata": {},
   "source": [
    "First, let's import some packages that I will use later on"
   ]
  },
  {
   "cell_type": "code",
   "execution_count": 1,
   "metadata": {},
   "outputs": [],
   "source": [
    "import numpy as np\n",
    "import matplotlib.pyplot as plt\n",
    "from sklearn import datasets\n",
    "from sklearn.model_selection import train_test_split\n",
    "from sklearn.preprocessing import StandardScaler\n",
    "from sklearn.linear_model import LogisticRegression\n",
    "from sklearn.metrics import accuracy_score"
   ]
  },
  {
   "cell_type": "markdown",
   "metadata": {},
   "source": [
    "For testing, I will use the IRIS dataset"
   ]
  },
  {
   "cell_type": "code",
   "execution_count": 2,
   "metadata": {},
   "outputs": [],
   "source": [
    "iris = datasets.load_iris()"
   ]
  },
  {
   "cell_type": "code",
   "execution_count": 3,
   "metadata": {},
   "outputs": [],
   "source": [
    "X = iris['data']\n",
    "y = iris['target']"
   ]
  },
  {
   "cell_type": "markdown",
   "metadata": {},
   "source": [
    "It contains 150 examples, each described by 4 features"
   ]
  },
  {
   "cell_type": "code",
   "execution_count": 4,
   "metadata": {},
   "outputs": [
    {
     "data": {
      "text/plain": [
       "(150, 4)"
      ]
     },
     "execution_count": 4,
     "metadata": {},
     "output_type": "execute_result"
    }
   ],
   "source": [
    "X.shape"
   ]
  },
  {
   "cell_type": "markdown",
   "metadata": {},
   "source": [
    "and labelled according to 3 classes"
   ]
  },
  {
   "cell_type": "code",
   "execution_count": 5,
   "metadata": {},
   "outputs": [
    {
     "data": {
      "text/plain": [
       "array([0, 1, 2])"
      ]
     },
     "execution_count": 5,
     "metadata": {},
     "output_type": "execute_result"
    }
   ],
   "source": [
    "np.unique(y)"
   ]
  },
  {
   "cell_type": "markdown",
   "metadata": {},
   "source": [
    "For playing, I will see how my class can identify examples with label '2'.Thus, I create a new array where only those example labeles with '2' are idetified as 1's,and the rest as 0's"
   ]
  },
  {
   "cell_type": "code",
   "execution_count": 6,
   "metadata": {},
   "outputs": [],
   "source": [
    "y2 = np.where(y==2,1,0)"
   ]
  },
  {
   "cell_type": "markdown",
   "metadata": {},
   "source": [
    "Let's have a look"
   ]
  },
  {
   "cell_type": "code",
   "execution_count": 7,
   "metadata": {},
   "outputs": [
    {
     "data": {
      "text/plain": [
       "array([0, 0, 0, 0, 0, 0, 0, 0, 0, 0, 0, 0, 0, 0, 0, 0, 0, 0, 0, 0, 0, 0,\n",
       "       0, 0, 0, 0, 0, 0, 0, 0, 0, 0, 0, 0, 0, 0, 0, 0, 0, 0, 0, 0, 0, 0,\n",
       "       0, 0, 0, 0, 0, 0, 0, 0, 0, 0, 0, 0, 0, 0, 0, 0, 0, 0, 0, 0, 0, 0,\n",
       "       0, 0, 0, 0, 0, 0, 0, 0, 0, 0, 0, 0, 0, 0, 0, 0, 0, 0, 0, 0, 0, 0,\n",
       "       0, 0, 0, 0, 0, 0, 0, 0, 0, 0, 0, 0, 1, 1, 1, 1, 1, 1, 1, 1, 1, 1,\n",
       "       1, 1, 1, 1, 1, 1, 1, 1, 1, 1, 1, 1, 1, 1, 1, 1, 1, 1, 1, 1, 1, 1,\n",
       "       1, 1, 1, 1, 1, 1, 1, 1, 1, 1, 1, 1, 1, 1, 1, 1, 1, 1])"
      ]
     },
     "execution_count": 7,
     "metadata": {},
     "output_type": "execute_result"
    }
   ],
   "source": [
    "y2"
   ]
  },
  {
   "cell_type": "markdown",
   "metadata": {},
   "source": [
    "I will divide the dataset into train and test sets making use of the sklear method train_test_split"
   ]
  },
  {
   "cell_type": "code",
   "execution_count": 8,
   "metadata": {},
   "outputs": [],
   "source": [
    "X_train, X_test, y_train, y_test = train_test_split(X, y2, test_size=0.3, random_state=1, stratify=y)"
   ]
  },
  {
   "cell_type": "markdown",
   "metadata": {},
   "source": [
    "I will also use the sklearn method to normalize the data"
   ]
  },
  {
   "cell_type": "code",
   "execution_count": 9,
   "metadata": {},
   "outputs": [],
   "source": [
    "sc = StandardScaler()\n",
    "sc.fit(X_train)\n",
    "X_train_std = sc.transform(X_train)\n",
    "X_test_std = sc.transform(X_test)"
   ]
  },
  {
   "cell_type": "markdown",
   "metadata": {},
   "source": [
    "Letś first check how the sklear method for Linear Regression (without regularization, C=1) performs"
   ]
  },
  {
   "cell_type": "code",
   "execution_count": 10,
   "metadata": {},
   "outputs": [
    {
     "data": {
      "text/plain": [
       "LogisticRegression(C=1, class_weight=None, dual=False, fit_intercept=True,\n",
       "                   intercept_scaling=1, l1_ratio=None, max_iter=100,\n",
       "                   multi_class='warn', n_jobs=None, penalty='l2',\n",
       "                   random_state=1, solver='lbfgs', tol=0.0001, verbose=0,\n",
       "                   warm_start=False)"
      ]
     },
     "execution_count": 10,
     "metadata": {},
     "output_type": "execute_result"
    }
   ],
   "source": [
    "lr = LogisticRegression(C=1, solver='lbfgs', random_state=1)\n",
    "lr.fit(X_train_std, y_train)"
   ]
  },
  {
   "cell_type": "code",
   "execution_count": 11,
   "metadata": {},
   "outputs": [],
   "source": [
    "y_pred = lr.predict(X_test_std)"
   ]
  },
  {
   "cell_type": "code",
   "execution_count": 12,
   "metadata": {},
   "outputs": [
    {
     "name": "stdout",
     "output_type": "stream",
     "text": [
      "Accuracy: 0.98\n"
     ]
    }
   ],
   "source": [
    "print('Accuracy: %.2f' % accuracy_score(y_test, y_pred))"
   ]
  },
  {
   "cell_type": "markdown",
   "metadata": {},
   "source": [
    "98% accuracy!"
   ]
  },
  {
   "cell_type": "markdown",
   "metadata": {},
   "source": [
    "Letś check how the class I implemented performs. First, I create a model (instance of the class)"
   ]
  },
  {
   "cell_type": "code",
   "execution_count": 13,
   "metadata": {},
   "outputs": [],
   "source": [
    "from logisticRegression import *\n",
    "myModel=LogisticRegressionModel(4)"
   ]
  },
  {
   "cell_type": "markdown",
   "metadata": {},
   "source": [
    "In my implementation, the feature matrices must have a shape of (number of feature, number of examples), and the label vectors a shape of (1, number of examples). Thus, we need some reshaping:"
   ]
  },
  {
   "cell_type": "code",
   "execution_count": 14,
   "metadata": {},
   "outputs": [],
   "source": [
    "X_train_std=X_train_std.T\n",
    "y_train=y_train.T\n",
    "X_test_std=X_test_std.T\n",
    "y_test=y_test.T"
   ]
  },
  {
   "cell_type": "markdown",
   "metadata": {},
   "source": [
    "OK, let's train the logistic regression model"
   ]
  },
  {
   "cell_type": "code",
   "execution_count": 15,
   "metadata": {},
   "outputs": [
    {
     "name": "stdout",
     "output_type": "stream",
     "text": [
      "Cost after iteration 0: 0.693147\n",
      "Cost after iteration 1000: 0.473798\n",
      "Cost after iteration 2000: 0.394660\n",
      "Cost after iteration 3000: 0.353519\n",
      "Cost after iteration 4000: 0.327184\n",
      "Cost after iteration 5000: 0.308297\n",
      "Cost after iteration 6000: 0.293817\n",
      "Cost after iteration 7000: 0.282226\n",
      "Cost after iteration 8000: 0.272663\n",
      "Cost after iteration 9000: 0.264590\n",
      "Cost after iteration 10000: 0.257650\n",
      "Cost after iteration 11000: 0.251594\n",
      "Cost after iteration 12000: 0.246241\n",
      "Cost after iteration 13000: 0.241457\n",
      "Cost after iteration 14000: 0.237140\n",
      "Cost after iteration 15000: 0.233211\n",
      "Cost after iteration 16000: 0.229609\n",
      "Cost after iteration 17000: 0.226284\n",
      "Cost after iteration 18000: 0.223196\n",
      "Cost after iteration 19000: 0.220313\n",
      "Cost after iteration 20000: 0.217609\n",
      "Cost after iteration 21000: 0.215062\n",
      "Cost after iteration 22000: 0.212653\n",
      "Cost after iteration 23000: 0.210367\n",
      "Cost after iteration 24000: 0.208190\n",
      "Cost after iteration 25000: 0.206111\n",
      "Cost after iteration 26000: 0.204122\n",
      "Cost after iteration 27000: 0.202214\n",
      "Cost after iteration 28000: 0.200378\n",
      "Cost after iteration 29000: 0.198611\n",
      "Cost after iteration 30000: 0.196905\n",
      "Cost after iteration 31000: 0.195256\n",
      "Cost after iteration 32000: 0.193660\n",
      "Cost after iteration 33000: 0.192113\n",
      "Cost after iteration 34000: 0.190612\n",
      "Cost after iteration 35000: 0.189154\n",
      "Cost after iteration 36000: 0.187736\n",
      "Cost after iteration 37000: 0.186355\n",
      "Cost after iteration 38000: 0.185011\n",
      "Cost after iteration 39000: 0.183700\n",
      "Cost after iteration 40000: 0.182421\n",
      "Cost after iteration 41000: 0.181172\n",
      "Cost after iteration 42000: 0.179952\n",
      "Cost after iteration 43000: 0.178759\n",
      "Cost after iteration 44000: 0.177592\n",
      "Cost after iteration 45000: 0.176451\n",
      "Cost after iteration 46000: 0.175333\n",
      "Cost after iteration 47000: 0.174239\n",
      "Cost after iteration 48000: 0.173166\n",
      "Cost after iteration 49000: 0.172115\n",
      "Cost after iteration 50000: 0.171085\n",
      "Cost after iteration 51000: 0.170074\n",
      "Cost after iteration 52000: 0.169082\n",
      "Cost after iteration 53000: 0.168108\n",
      "Cost after iteration 54000: 0.167152\n",
      "Cost after iteration 55000: 0.166213\n",
      "Cost after iteration 56000: 0.165291\n",
      "Cost after iteration 57000: 0.164385\n",
      "Cost after iteration 58000: 0.163495\n",
      "Cost after iteration 59000: 0.162620\n",
      "Cost after iteration 60000: 0.161760\n",
      "Cost after iteration 61000: 0.160914\n",
      "Cost after iteration 62000: 0.160082\n",
      "Cost after iteration 63000: 0.159263\n",
      "Cost after iteration 64000: 0.158458\n",
      "Cost after iteration 65000: 0.157665\n",
      "Cost after iteration 66000: 0.156885\n",
      "Cost after iteration 67000: 0.156117\n",
      "Cost after iteration 68000: 0.155361\n",
      "Cost after iteration 69000: 0.154617\n",
      "Cost after iteration 70000: 0.153884\n",
      "Cost after iteration 71000: 0.153162\n",
      "Cost after iteration 72000: 0.152451\n",
      "Cost after iteration 73000: 0.151750\n",
      "Cost after iteration 74000: 0.151059\n",
      "Cost after iteration 75000: 0.150379\n",
      "Cost after iteration 76000: 0.149708\n",
      "Cost after iteration 77000: 0.149047\n",
      "Cost after iteration 78000: 0.148396\n",
      "Cost after iteration 79000: 0.147753\n",
      "Cost after iteration 80000: 0.147120\n",
      "Cost after iteration 81000: 0.146495\n",
      "Cost after iteration 82000: 0.145879\n",
      "Cost after iteration 83000: 0.145272\n",
      "Cost after iteration 84000: 0.144672\n",
      "Cost after iteration 85000: 0.144081\n",
      "Cost after iteration 86000: 0.143498\n",
      "Cost after iteration 87000: 0.142922\n",
      "Cost after iteration 88000: 0.142354\n",
      "Cost after iteration 89000: 0.141793\n",
      "Cost after iteration 90000: 0.141240\n",
      "Cost after iteration 91000: 0.140694\n",
      "Cost after iteration 92000: 0.140155\n",
      "Cost after iteration 93000: 0.139622\n",
      "Cost after iteration 94000: 0.139097\n",
      "Cost after iteration 95000: 0.138578\n",
      "Cost after iteration 96000: 0.138065\n",
      "Cost after iteration 97000: 0.137559\n",
      "Cost after iteration 98000: 0.137060\n",
      "Cost after iteration 99000: 0.136566\n"
     ]
    }
   ],
   "source": [
    "myModel.train(X_train_std, y_train, 100000, 0.001, True)"
   ]
  },
  {
   "cell_type": "markdown",
   "metadata": {},
   "source": [
    "Letś check the accuracy"
   ]
  },
  {
   "cell_type": "code",
   "execution_count": 16,
   "metadata": {},
   "outputs": [],
   "source": [
    "accuracy=myModel.scoring(myModel.predict(X_test_std),y_test)"
   ]
  },
  {
   "cell_type": "code",
   "execution_count": 17,
   "metadata": {},
   "outputs": [
    {
     "name": "stdout",
     "output_type": "stream",
     "text": [
      "0.9777777777777777\n"
     ]
    }
   ],
   "source": [
    "print(accuracy)"
   ]
  },
  {
   "cell_type": "markdown",
   "metadata": {},
   "source": [
    "and how the cost function evolved during the training"
   ]
  },
  {
   "cell_type": "code",
   "execution_count": 18,
   "metadata": {},
   "outputs": [
    {
     "data": {
      "image/png": "[encoded data removed]",
      "text/plain": [
       "<Figure size 432x288 with 1 Axes>"
      ]
     },
     "metadata": {
      "needs_background": "light"
     },
     "output_type": "display_data"
    }
   ],
   "source": [
    "myModel.plotCosts()"
   ]
  },
  {
   "cell_type": "markdown",
   "metadata": {},
   "source": [
    "Almost the same accuracy than with the sklearn method!"
   ]
  },
  {
   "cell_type": "code",
   "execution_count": null,
   "metadata": {},
   "outputs": [],
   "source": []
  }
 ],
 "metadata": {
  "kernelspec": {
   "display_name": "Python 3",
   "language": "python",
   "name": "python3"
  },
  "language_info": {
   "codemirror_mode": {
    "name": "ipython",
    "version": 3
   },
   "file_extension": ".py",
   "mimetype": "text/x-python",
   "name": "python",
   "nbconvert_exporter": "python",
   "pygments_lexer": "ipython3",
   "version": "3.7.3"
  }
 },
 "nbformat": 4,
 "nbformat_minor": 4
}
